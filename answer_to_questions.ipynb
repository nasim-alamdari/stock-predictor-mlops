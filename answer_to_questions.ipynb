{
 "cells": [
  {
   "cell_type": "raw",
   "id": "e6b80c6d-5211-415c-ba6a-bc50e47c1998",
   "metadata": {},
   "source": [
    "Answer to questions:\n"
   ]
  },
  {
   "cell_type": "code",
   "execution_count": null,
   "id": "9243ed1a-806f-40dc-9524-6e6f6772e538",
   "metadata": {},
   "outputs": [],
   "source": []
  }
 ],
 "metadata": {
  "kernelspec": {
   "display_name": "Python 3 (ipykernel)",
   "language": "python",
   "name": "python3"
  },
  "language_info": {
   "codemirror_mode": {
    "name": "ipython",
    "version": 3
   },
   "file_extension": ".py",
   "mimetype": "text/x-python",
   "name": "python",
   "nbconvert_exporter": "python",
   "pygments_lexer": "ipython3",
   "version": "3.8.16"
  }
 },
 "nbformat": 4,
 "nbformat_minor": 5
}
