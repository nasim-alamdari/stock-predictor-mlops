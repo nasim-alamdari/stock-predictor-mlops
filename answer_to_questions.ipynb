{
 "cells": [
  {
   "cell_type": "raw",
   "id": "e6b80c6d-5211-415c-ba6a-bc50e47c1998",
   "metadata": {},
   "source": [
    "Answer to questions:\n"
   ]
  },
  {
   "cell_type": "markdown",
   "id": "e8d286e1-d42f-470d-8270-cc54e4712170",
   "metadata": {},
   "source": [
    "\n",
    "1.What does it mean to create a Docker image and why do we use Docker images?\n",
    "\n",
    "__Answer__:\n",
    "- A Docker image is a read-only template that contains a set of instructions for creating a container that can run on the Docker platform.\n",
    "- Docker images are a reusable asset -- deployable on any host. Developers can take the static image layers from one project and use them in another. This saves the user time, because they do not have to recreate an image from scratch.\n",
    "\n",
    "2.Please explain what is the difference from a Container vs a Virtual Machine?\n",
    "\n",
    "__Answer__:\n",
    "- A container is a software code package containing an application's code, its libraries, and other dependencies. Containerization makes your applications portable so that the same code can run on any device. \n",
    "- A virtual machine is a digital copy of a physical machine.\n",
    "- If you have specific hardware requirements for your project, or you are developing on one hardware platform and need to target another like Windows vs MacOS, you will need to use a virtual machine. Most other 'software only' requirements can be met by using containers.\n",
    "- VMs solve infrastructure problems by letting organizations get more out of servers and facilitate limited workload portability. Containers solve application problems by improving DevOps, enabling microservices, increasing portability, and further improving resource utilization.\n",
    "\n",
    "3.What are 5 examples of container orchestration tools (please list tools)?\n",
    "\n",
    "__Answer__:\n",
    "- Kubernetes\n",
    "- Docker Swarm\n",
    "- Apache Mesos\n",
    "- Redhat OpenShift\n",
    "- Nomad by HashiCorp\n",
    "- Amazon Elastic Container Service (Amazon ECS)\n",
    "\n",
    "4.How does a Docker image differ from a Docker container?\n",
    "\n",
    "__Answer__:\n",
    "- a Docker image is a read-only immutable template that defines how a container will be realized. \n",
    "- A Docker container is a runtime instance of a Docker image that gets created when the $ docker run command is implemented.\n"
   ]
  },
  {
   "cell_type": "code",
   "execution_count": null,
   "id": "8c261afc-dd09-41f8-88d5-f9338402bc52",
   "metadata": {},
   "outputs": [],
   "source": []
  }
 ],
 "metadata": {
  "kernelspec": {
   "display_name": "Python 3 (ipykernel)",
   "language": "python",
   "name": "python3"
  },
  "language_info": {
   "codemirror_mode": {
    "name": "ipython",
    "version": 3
   },
   "file_extension": ".py",
   "mimetype": "text/x-python",
   "name": "python",
   "nbconvert_exporter": "python",
   "pygments_lexer": "ipython3",
   "version": "3.8.16"
  }
 },
 "nbformat": 4,
 "nbformat_minor": 5
}
